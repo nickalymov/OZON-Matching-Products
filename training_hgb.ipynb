{
 "cells": [
  {
   "cell_type": "code",
   "outputs": [],
   "source": [
    "import optuna\n",
    "import pandas as pd\n",
    "from sklearn.model_selection import StratifiedKFold\n",
    "from sklearn.metrics import roc_auc_score\n",
    "from sklearn.ensemble import HistGradientBoostingClassifier\n",
    "import numpy as np\n",
    "import joblib"
   ],
   "metadata": {
    "collapsed": false,
    "ExecuteTime": {
     "end_time": "2024-09-08T05:26:07.737081100Z",
     "start_time": "2024-09-08T05:26:06.824081600Z"
    }
   },
   "id": "155eb5c47e2de4fb",
   "execution_count": 1
  },
  {
   "cell_type": "code",
   "outputs": [],
   "source": [
    "# Загрузка данных\n",
    "train = pd.read_csv('my_data/2_my_train.csv')\n",
    "X = train.drop(columns=['target', 'variantid1', 'variantid2'])\n",
    "y = train['target']"
   ],
   "metadata": {
    "collapsed": false,
    "ExecuteTime": {
     "end_time": "2024-09-08T05:26:29.166080600Z",
     "start_time": "2024-09-08T05:26:07.739080800Z"
    }
   },
   "id": "e17512fd35d89503",
   "execution_count": 2
  },
  {
   "cell_type": "code",
   "outputs": [],
   "source": [
    "# Установка параметров кросс-валидации\n",
    "n_splits = 5   \n",
    "skf = StratifiedKFold(n_splits=n_splits, shuffle=True, random_state=42)"
   ],
   "metadata": {
    "collapsed": false,
    "ExecuteTime": {
     "end_time": "2024-09-08T05:26:29.181080600Z",
     "start_time": "2024-09-08T05:26:29.166080600Z"
    }
   },
   "id": "6ef7bce9d0f7b794",
   "execution_count": 3
  },
  {
   "cell_type": "code",
   "outputs": [],
   "source": [
    "# Фиксированные параметры\n",
    "fixed_params = {\n",
    "    'max_iter': 1000,  # можно изменить при необходимости\n",
    "    'loss': 'log_loss',\n",
    "    'random_state': 42,\n",
    "    'scoring': 'roc_auc',\n",
    "    'n_iter_no_change': 100,\n",
    "    'verbose': 0,\n",
    "    'class_weight': 'balanced',\n",
    "    'early_stopping': 'auto',\n",
    "    'warm_start': True\n",
    "}"
   ],
   "metadata": {
    "collapsed": false,
    "ExecuteTime": {
     "end_time": "2024-09-08T05:26:29.197080600Z",
     "start_time": "2024-09-08T05:26:29.181080600Z"
    }
   },
   "id": "d0050642ecab6c7b",
   "execution_count": 4
  },
  {
   "cell_type": "code",
   "outputs": [],
   "source": [
    "# Функция для оптимизации HistGradientBoostingClassifier\n",
    "def optimize_hgb(trial):\n",
    "    params = {\n",
    "        'learning_rate': trial.suggest_float('learning_rate', 0.0001, 0.1),\n",
    "        'max_leaf_nodes': trial.suggest_int('max_leaf_nodes', 3, 1000),\n",
    "        'max_depth': trial.suggest_int('max_depth', 3, 100),\n",
    "        'min_samples_leaf': trial.suggest_int('min_samples_leaf', 1, 100),\n",
    "        'l2_regularization': trial.suggest_float('l2_regularization', 0, 10.0),\n",
    "        'max_features': trial.suggest_float('max_features', 0.8, 1.0),\n",
    "        'max_bins': trial.suggest_int('max_bins', 8, 255),\n",
    "        'tol': trial.suggest_float('tol', 1e-7, 1e-3),  \n",
    "    }\n",
    "    \n",
    "    aucs = []\n",
    "    \n",
    "    for train_idx, valid_idx in skf.split(X, y):\n",
    "        X_train, X_valid = X.iloc[train_idx], X.iloc[valid_idx]\n",
    "        y_train, y_valid = y.iloc[train_idx], y.iloc[valid_idx]\n",
    "        \n",
    "        model = HistGradientBoostingClassifier(**params)\n",
    "        model.fit(X_train, y_train)\n",
    "        \n",
    "        preds = model.predict_proba(X_valid)[:, 1]\n",
    "        auc = roc_auc_score(y_valid, preds)\n",
    "        aucs.append(auc)\n",
    "    \n",
    "    return np.mean(aucs)"
   ],
   "metadata": {
    "collapsed": false,
    "ExecuteTime": {
     "end_time": "2024-09-08T05:26:29.213080Z",
     "start_time": "2024-09-08T05:26:29.200080300Z"
    }
   },
   "id": "2de66f7764a2b8d8",
   "execution_count": 5
  },
  {
   "cell_type": "code",
   "outputs": [
    {
     "name": "stderr",
     "output_type": "stream",
     "text": [
      "[I 2024-09-08 08:26:29,214] A new study created in memory with name: no-name-fa0d579e-d8c4-4cc2-b028-55cc255070b1\n",
      "[I 2024-09-08 08:47:48,712] Trial 0 finished with value: 0.9638123102572287 and parameters: {'learning_rate': 0.03751655787285152, 'max_leaf_nodes': 951, 'max_depth': 74, 'min_samples_leaf': 60, 'l2_regularization': 1.5601864044243652, 'max_features': 0.8311989040672406, 'max_bins': 22, 'tol': 0.0008661895281603576}. Best is trial 0 with value: 0.9638123102572287.\n",
      "[I 2024-09-08 08:52:44,225] Trial 1 finished with value: 0.9526150592931998 and parameters: {'learning_rate': 0.060151389673146566, 'max_leaf_nodes': 709, 'max_depth': 5, 'min_samples_leaf': 97, 'l2_regularization': 8.324426408004218, 'max_features': 0.8424678221356553, 'max_bins': 53, 'tol': 0.00018348616940244846}. Best is trial 0 with value: 0.9638123102572287.\n",
      "[I 2024-09-08 09:11:36,405] Trial 2 finished with value: 0.9618270216290895 and parameters: {'learning_rate': 0.03049380007165782, 'max_leaf_nodes': 526, 'max_depth': 45, 'min_samples_leaf': 30, 'l2_regularization': 6.118528947223795, 'max_features': 0.8278987721304084, 'max_bins': 80, 'tol': 0.0003664252071093623}. Best is trial 0 with value: 0.9638123102572287.\n",
      "[I 2024-09-08 09:31:15,150] Trial 3 finished with value: 0.9659212387341656 and parameters: {'learning_rate': 0.04566139142328189, 'max_leaf_nodes': 786, 'max_depth': 22, 'min_samples_leaf': 52, 'l2_regularization': 5.924145688620425, 'max_features': 0.8092900825439996, 'max_bins': 158, 'tol': 0.0001706070712749228}. Best is trial 3 with value: 0.9659212387341656.\n"
     ]
    }
   ],
   "source": [
    "# Оптимизация гиперпараметров с помощью Optuna\n",
    "study_hgb = optuna.create_study(direction='maximize', sampler=optuna.samplers.TPESampler(seed=42))\n",
    "study_hgb.optimize(optimize_hgb, n_trials=4)"
   ],
   "metadata": {
    "collapsed": false,
    "ExecuteTime": {
     "end_time": "2024-09-08T06:31:15.160139700Z",
     "start_time": "2024-09-08T05:26:29.215080200Z"
    }
   },
   "id": "c6239d9f1fe60a9c",
   "execution_count": 6
  },
  {
   "cell_type": "code",
   "outputs": [],
   "source": [
    "best_params_hgb = study_hgb.best_params\n",
    "final_params = {**fixed_params, **best_params_hgb}"
   ],
   "metadata": {
    "collapsed": false,
    "ExecuteTime": {
     "end_time": "2024-09-08T06:31:15.175095800Z",
     "start_time": "2024-09-08T06:31:15.169096Z"
    }
   },
   "id": "95fbab5be8854748",
   "execution_count": 7
  },
  {
   "cell_type": "code",
   "outputs": [
    {
     "data": {
      "text/plain": "['final_hgb_model.pkl']"
     },
     "execution_count": 8,
     "metadata": {},
     "output_type": "execute_result"
    }
   ],
   "source": [
    "# Финальное обучение на всей выборке и сохранение модели\n",
    "final_hgb = HistGradientBoostingClassifier(**final_params)\n",
    "final_hgb.fit(X, y)\n",
    "joblib.dump(final_hgb, 'final_hgb_model.pkl')"
   ],
   "metadata": {
    "collapsed": false,
    "ExecuteTime": {
     "end_time": "2024-09-08T06:49:30.805761800Z",
     "start_time": "2024-09-08T06:31:15.178096100Z"
    }
   },
   "id": "48a2445e4d5fb8ee",
   "execution_count": 8
  }
 ],
 "metadata": {
  "kernelspec": {
   "display_name": "Python 3",
   "language": "python",
   "name": "python3"
  },
  "language_info": {
   "codemirror_mode": {
    "name": "ipython",
    "version": 2
   },
   "file_extension": ".py",
   "mimetype": "text/x-python",
   "name": "python",
   "nbconvert_exporter": "python",
   "pygments_lexer": "ipython2",
   "version": "2.7.6"
  }
 },
 "nbformat": 4,
 "nbformat_minor": 5
}
