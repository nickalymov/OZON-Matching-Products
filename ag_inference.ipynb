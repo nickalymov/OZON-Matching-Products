{
 "cells": [
  {
   "cell_type": "code",
   "execution_count": 2,
   "id": "initial_id",
   "metadata": {
    "collapsed": true,
    "ExecuteTime": {
     "end_time": "2024-09-07T09:12:42.416307900Z",
     "start_time": "2024-09-07T09:05:21.267402300Z"
    }
   },
   "outputs": [
    {
     "name": "stderr",
     "output_type": "stream",
     "text": [
      "C:\\Users\\Николай\\PycharmProjects\\OZON E-CUP\\.venv\\lib\\site-packages\\dask\\dataframe\\__init__.py:42: FutureWarning: \n",
      "Dask dataframe query planning is disabled because dask-expr is not installed.\n",
      "\n",
      "You can install it with `pip install dask[dataframe]` or `conda install dask`.\n",
      "This will raise in a future version.\n",
      "\n",
      "  warnings.warn(msg, FutureWarning)\n"
     ]
    },
    {
     "name": "stdout",
     "output_type": "stream",
     "text": [
      "0        0.123921\n",
      "1        0.246520\n",
      "2        0.131399\n",
      "3        0.862775\n",
      "4        0.122629\n",
      "           ...   \n",
      "49615    0.239806\n",
      "49616    0.317674\n",
      "49617    0.873643\n",
      "49618    0.122524\n",
      "49619    0.117494\n",
      "Name: 1, Length: 49620, dtype: float64\n"
     ]
    }
   ],
   "source": [
    "from autogluon.tabular import TabularPredictor\n",
    "import pandas as pd\n",
    "\n",
    "predictor = TabularPredictor.load(\"AutogluonModels/ag-20240906_205040\")\n",
    "\n",
    "X_test = pd.read_csv(\"my_data/2_my_test.csv\")\n",
    "predictions = predictor.predict_proba(X_test)[1]\n",
    "\n",
    "print(predictions)"
   ]
  }
 ],
 "metadata": {
  "kernelspec": {
   "display_name": "Python 3",
   "language": "python",
   "name": "python3"
  },
  "language_info": {
   "codemirror_mode": {
    "name": "ipython",
    "version": 2
   },
   "file_extension": ".py",
   "mimetype": "text/x-python",
   "name": "python",
   "nbconvert_exporter": "python",
   "pygments_lexer": "ipython2",
   "version": "2.7.6"
  }
 },
 "nbformat": 4,
 "nbformat_minor": 5
}
