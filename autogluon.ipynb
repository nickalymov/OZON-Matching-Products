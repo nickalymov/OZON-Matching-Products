{
 "cells": [
  {
   "cell_type": "code",
   "execution_count": 1,
   "id": "initial_id",
   "metadata": {
    "collapsed": true,
    "ExecuteTime": {
     "end_time": "2024-09-06T20:50:16.262609400Z",
     "start_time": "2024-09-06T20:50:15.102774500Z"
    }
   },
   "outputs": [],
   "source": [
    "from __future__ import annotations\n",
    "\n",
    "import numpy as np\n",
    "import pandas as pd\n",
    "from autogluon.tabular import TabularPredictor"
   ]
  },
  {
   "cell_type": "code",
   "outputs": [],
   "source": [
    "X_train = pd.read_csv(\"my_data/2_my_train.csv\")\n",
    "X_test = pd.read_csv(\"my_data/2_my_test.csv\")\n",
    "label = \"target\""
   ],
   "metadata": {
    "collapsed": false,
    "ExecuteTime": {
     "end_time": "2024-09-06T20:50:36.676368200Z",
     "start_time": "2024-09-06T20:50:16.261549700Z"
    }
   },
   "id": "5996ffdc58067c6f",
   "execution_count": 2
  },
  {
   "cell_type": "code",
   "outputs": [],
   "source": [
    "X_train = X_train.drop(columns=['variantid1', 'variantid2'])\n",
    "X_test = X_test.drop(columns=['variantid1', 'variantid2'])"
   ],
   "metadata": {
    "collapsed": false,
    "ExecuteTime": {
     "end_time": "2024-09-06T20:50:37.345594200Z",
     "start_time": "2024-09-06T20:50:36.676368200Z"
    }
   },
   "id": "ddd8a64c3131ef2e",
   "execution_count": 3
  },
  {
   "cell_type": "code",
   "outputs": [],
   "source": [
    "cat_columns = [\n",
    "    'cat_fit',\n",
    "    'cat2',\n",
    "    'cat3'\n",
    "]\n",
    "X_train[cat_columns] = X_train[cat_columns].astype(\"category\")\n",
    "X_test[cat_columns] = X_test[cat_columns].astype(\"category\")"
   ],
   "metadata": {
    "collapsed": false,
    "ExecuteTime": {
     "end_time": "2024-09-06T20:50:37.453899200Z",
     "start_time": "2024-09-06T20:50:37.348970800Z"
    }
   },
   "id": "e103fa6b0fed3946",
   "execution_count": 4
  },
  {
   "cell_type": "code",
   "outputs": [],
   "source": [
    "attr_columns = [col for col in X_train.columns if col.startswith('attr')]\n",
    "\n",
    "X_train[attr_columns] = X_train[attr_columns].astype('category')\n",
    "X_test[attr_columns] = X_test[attr_columns].astype('category')"
   ],
   "metadata": {
    "collapsed": false,
    "ExecuteTime": {
     "end_time": "2024-09-06T20:50:40.935830200Z",
     "start_time": "2024-09-06T20:50:37.456183200Z"
    }
   },
   "id": "2385557831e70cf2",
   "execution_count": 5
  },
  {
   "cell_type": "code",
   "outputs": [
    {
     "name": "stderr",
     "output_type": "stream",
     "text": [
      "No path specified. Models will be saved in: \"AutogluonModels\\ag-20240906_205040\"\n"
     ]
    }
   ],
   "source": [
    "predictor = TabularPredictor(\n",
    "    label=label,\n",
    "    eval_metric=\"roc_auc\",\n",
    "    problem_type=\"binary\",\n",
    "    verbosity=1,\n",
    ")"
   ],
   "metadata": {
    "collapsed": false,
    "ExecuteTime": {
     "end_time": "2024-09-06T20:50:40.952311200Z",
     "start_time": "2024-09-06T20:50:40.937939500Z"
    }
   },
   "id": "a5652edc15d6f2b8",
   "execution_count": 6
  },
  {
   "cell_type": "code",
   "outputs": [
    {
     "name": "stderr",
     "output_type": "stream",
     "text": [
      "\tWarning: Not enough memory to safely train model. Estimated to require 4.357 GB out of 13.099 GB available memory (33.258%)... (20.000% of avail memory is the max safe size)\n",
      "\tTo force training the model, specify the model hyperparameter \"ag.max_memory_usage_ratio\" to a larger value (currently 1.0, set to >=1.71 to avoid the error)\n",
      "\t\tTo set the same value for all models, do the following when calling predictor.fit: `predictor.fit(..., ag_args_fit={\"ag.max_memory_usage_ratio\": VALUE})`\n",
      "\t\tSetting \"ag.max_memory_usage_ratio\" to values above 1 may result in out-of-memory errors. You may consider using a machine with more memory as a safer alternative.\n",
      "\tNot enough memory to train KNeighborsUnif_BAG_L1... Skipping this model.\n",
      "\tWarning: Not enough memory to safely train model. Estimated to require 4.357 GB out of 13.121 GB available memory (33.202%)... (20.000% of avail memory is the max safe size)\n",
      "\tTo force training the model, specify the model hyperparameter \"ag.max_memory_usage_ratio\" to a larger value (currently 1.0, set to >=1.71 to avoid the error)\n",
      "\t\tTo set the same value for all models, do the following when calling predictor.fit: `predictor.fit(..., ag_args_fit={\"ag.max_memory_usage_ratio\": VALUE})`\n",
      "\t\tSetting \"ag.max_memory_usage_ratio\" to values above 1 may result in out-of-memory errors. You may consider using a machine with more memory as a safer alternative.\n",
      "\tNot enough memory to train KNeighborsDist_BAG_L1... Skipping this model.\n",
      "\tMemory not enough to fit 16 folds in parallel. Will train 2 folds in parallel instead (Estimated 32.39% memory usage per fold, 64.78%/80.00% total).\n",
      "\tMemory not enough to fit 16 folds in parallel. Will train 2 folds in parallel instead (Estimated 25.71% memory usage per fold, 51.43%/80.00% total).\n",
      "\tMemory not enough to fit 16 folds in parallel. Will train 2 folds in parallel instead (Estimated 27.59% memory usage per fold, 55.18%/80.00% total).\n",
      "\tMemory not enough to fit 16 folds in parallel. Will train 2 folds in parallel instead (Estimated 35.33% memory usage per fold, 70.66%/80.00% total).\n",
      "2024-09-07 04:17:48,815\tERROR worker.py:406 -- Unhandled error (suppress with 'RAY_IGNORE_UNHANDLED_ERRORS=1'): \u001B[36mray::_ray_fit()\u001B[39m (pid=19352, ip=127.0.0.1)\n",
      "  File \"python\\ray\\_raylet.pyx\", line 1889, in ray._raylet.execute_task\n",
      "  File \"C:\\Users\\Николай\\PycharmProjects\\OZON E-CUP\\.venv\\lib\\site-packages\\autogluon\\core\\models\\ensemble\\fold_fitting_strategy.py\", line 402, in _ray_fit\n",
      "    fold_model.fit(X=X_fold, y=y_fold, X_val=X_val_fold, y_val=y_val_fold, time_limit=time_limit_fold, **resources, **kwargs_fold)\n",
      "  File \"C:\\Users\\Николай\\PycharmProjects\\OZON E-CUP\\.venv\\lib\\site-packages\\autogluon\\core\\models\\abstract\\abstract_model.py\", line 856, in fit\n",
      "    out = self._fit(**kwargs)\n",
      "  File \"C:\\Users\\Николай\\PycharmProjects\\OZON E-CUP\\.venv\\lib\\site-packages\\autogluon\\tabular\\models\\fastainn\\tabular_nn_fastai.py\", line 357, in _fit\n",
      "    raise TimeLimitExceeded\n",
      "autogluon.core.utils.exceptions.TimeLimitExceeded\n",
      "\tMemory not enough to fit 16 folds in parallel. Will train 2 folds in parallel instead (Estimated 28.88% memory usage per fold, 57.77%/80.00% total).\n",
      "\tMemory not enough to fit 16 folds in parallel. Will train 4 folds in parallel instead (Estimated 19.11% memory usage per fold, 76.45%/80.00% total).\n",
      "\tMemory not enough to fit 16 folds in parallel. Will train 2 folds in parallel instead (Estimated 27.58% memory usage per fold, 55.16%/80.00% total).\n",
      "\tMemory not enough to fit 16 folds in parallel. Will train 2 folds in parallel instead (Estimated 28.73% memory usage per fold, 57.46%/80.00% total).\n",
      "2024-09-07 04:38:46,565\tERROR worker.py:406 -- Unhandled error (suppress with 'RAY_IGNORE_UNHANDLED_ERRORS=1'): The worker died unexpectedly while executing this task. Check python-core-worker-*.log files for more information.\n",
      "2024-09-07 04:38:46,570\tERROR worker.py:406 -- Unhandled error (suppress with 'RAY_IGNORE_UNHANDLED_ERRORS=1'): The worker died unexpectedly while executing this task. Check python-core-worker-*.log files for more information.\n",
      "2024-09-07 04:38:46,572\tERROR worker.py:406 -- Unhandled error (suppress with 'RAY_IGNORE_UNHANDLED_ERRORS=1'): The worker died unexpectedly while executing this task. Check python-core-worker-*.log files for more information.\n",
      "\tMemory not enough to fit 16 folds in parallel. Will train 2 folds in parallel instead (Estimated 29.56% memory usage per fold, 59.12%/80.00% total).\n",
      "\tMemory not enough to fit 16 folds in parallel. Will train 2 folds in parallel instead (Estimated 37.03% memory usage per fold, 74.06%/80.00% total).\n",
      "2024-09-07 06:47:46,896\tERROR worker.py:406 -- Unhandled error (suppress with 'RAY_IGNORE_UNHANDLED_ERRORS=1'): \u001B[36mray::_ray_fit()\u001B[39m (pid=15804, ip=127.0.0.1)\n",
      "  File \"python\\ray\\_raylet.pyx\", line 1889, in ray._raylet.execute_task\n",
      "  File \"C:\\Users\\Николай\\PycharmProjects\\OZON E-CUP\\.venv\\lib\\site-packages\\autogluon\\core\\models\\ensemble\\fold_fitting_strategy.py\", line 402, in _ray_fit\n",
      "    fold_model.fit(X=X_fold, y=y_fold, X_val=X_val_fold, y_val=y_val_fold, time_limit=time_limit_fold, **resources, **kwargs_fold)\n",
      "  File \"C:\\Users\\Николай\\PycharmProjects\\OZON E-CUP\\.venv\\lib\\site-packages\\autogluon\\core\\models\\abstract\\abstract_model.py\", line 856, in fit\n",
      "    out = self._fit(**kwargs)\n",
      "  File \"C:\\Users\\Николай\\PycharmProjects\\OZON E-CUP\\.venv\\lib\\site-packages\\autogluon\\tabular\\models\\fastainn\\tabular_nn_fastai.py\", line 357, in _fit\n",
      "    raise TimeLimitExceeded\n",
      "autogluon.core.utils.exceptions.TimeLimitExceeded\n",
      "\tMemory not enough to fit 16 folds in parallel. Will train 2 folds in parallel instead (Estimated 30.24% memory usage per fold, 60.48%/80.00% total).\n"
     ]
    },
    {
     "data": {
      "text/plain": "<autogluon.tabular.predictor.predictor.TabularPredictor at 0x158360777c0>"
     },
     "execution_count": 7,
     "metadata": {},
     "output_type": "execute_result"
    }
   ],
   "source": [
    "predictor.fit(\n",
    "    time_limit=int(60 * 60 * 7),\n",
    "    train_data=X_train,\n",
    "    presets=\"best_quality\",\n",
    "    dynamic_stacking=False,\n",
    "    hyperparameters='zeroshot',\n",
    "    # Early Stopping\n",
    "    ag_args_fit={\n",
    "        \"stopping_metric\": \"log_loss\",\n",
    "        # \"ag.max_memory_usage_ratio\": 3.03\n",
    "    },\n",
    "    # Validation Protocol\n",
    "    num_bag_folds=16,\n",
    "    num_bag_sets=1,\n",
    "    num_stack_levels=1,\n",
    ")"
   ],
   "metadata": {
    "collapsed": false,
    "ExecuteTime": {
     "end_time": "2024-09-07T03:59:17.109256500Z",
     "start_time": "2024-09-06T20:50:40.955666600Z"
    }
   },
   "id": "2665feaf04fe81e",
   "execution_count": 7
  },
  {
   "cell_type": "code",
   "outputs": [
    {
     "name": "stdout",
     "output_type": "stream",
     "text": [
      "*** Summary of fit() ***\n",
      "Estimated performance of each model:\n",
      "                      model  score_val eval_metric  pred_time_val      fit_time  pred_time_val_marginal  fit_time_marginal  stack_level  can_infer  fit_order\n",
      "0       WeightedEnsemble_L3   0.974025     roc_auc    1121.149816  17698.055989                0.180016          58.066063            3       True         18\n",
      "1   RandomForestEntr_BAG_L2   0.973816     roc_auc    1076.345357  16459.283098              108.567989         347.386999            2       True         13\n",
      "2         LightGBMXT_BAG_L2   0.973772     roc_auc     975.050403  16423.202098                7.273034         311.305999            2       True         10\n",
      "3           LightGBM_BAG_L2   0.973658     roc_auc     973.352371  16360.107097                5.575002         248.210999            2       True         11\n",
      "4       WeightedEnsemble_L2   0.973450     roc_auc     609.776122   7366.941549                0.182101          29.373485            2       True          9\n",
      "5           CatBoost_BAG_L2   0.973298     roc_auc     971.877039  21509.736933                4.099670        5397.840834            2       True         14\n",
      "6     ExtraTreesEntr_BAG_L2   0.973217     roc_auc    1076.878453  16485.002088              109.101084         373.105989            2       True         16\n",
      "7         LightGBMXT_BAG_L1   0.973166     roc_auc     257.292004   3610.180981              257.292004        3610.180981            1       True          1\n",
      "8   RandomForestGini_BAG_L2   0.973147     roc_auc    1071.941355  16388.867101              104.163987         276.971003            2       True         12\n",
      "9            XGBoost_BAG_L2   0.973059     roc_auc     999.553775  16733.085928               31.776406         621.189830            2       True         17\n",
      "10    ExtraTreesGini_BAG_L2   0.972702     roc_auc    1070.961355  16393.927099              103.183986         282.031000            2       True         15\n",
      "11          LightGBM_BAG_L1   0.972524     roc_auc     245.732065   3348.017092              245.732065        3348.017092            1       True          2\n",
      "12  RandomForestEntr_BAG_L1   0.963928     roc_auc     106.569952    379.369991              106.569952         379.369991            1       True          4\n",
      "13  RandomForestGini_BAG_L1   0.963046     roc_auc     105.204073    358.400986              105.204073         358.400986            1       True          3\n",
      "14    ExtraTreesEntr_BAG_L1   0.961220     roc_auc     108.054231    408.249995              108.054231         408.249995            1       True          7\n",
      "15    ExtraTreesGini_BAG_L1   0.960883     roc_auc     108.689119    393.593342              108.689119         393.593342            1       True          6\n",
      "16          CatBoost_BAG_L1   0.947361     roc_auc       4.649034   6936.761156                4.649034        6936.761156            1       True          5\n",
      "17           XGBoost_BAG_L1   0.928642     roc_auc      31.586890    677.322555               31.586890         677.322555            1       True          8\n",
      "Number of models trained: 18\n",
      "Types of models trained:\n",
      "{'StackerEnsembleModel_XGBoost', 'StackerEnsembleModel_XT', 'StackerEnsembleModel_CatBoost', 'StackerEnsembleModel_LGB', 'StackerEnsembleModel_RF', 'WeightedEnsembleModel'}\n",
      "Bagging used: True  (with 16 folds)\n",
      "Multi-layer stack-ensembling used: True  (with 3 levels)\n",
      "Feature Metadata (Processed):\n",
      "(raw dtype, special dtypes):\n",
      "('category', []) : 203 | ['cat_fit', 'cat2', 'cat3', 'attr1', 'attr2', ...]\n",
      "('float', [])    :  39 | ['jac_attrs', 'jac_vals', 'jac_num_vals', 'jac_sev_vals', 'jac_vital_vals', ...]\n",
      "*** End of fit() summary ***\n"
     ]
    },
    {
     "data": {
      "text/plain": "{'model_types': {'LightGBMXT_BAG_L1': 'StackerEnsembleModel_LGB',\n  'LightGBM_BAG_L1': 'StackerEnsembleModel_LGB',\n  'RandomForestGini_BAG_L1': 'StackerEnsembleModel_RF',\n  'RandomForestEntr_BAG_L1': 'StackerEnsembleModel_RF',\n  'CatBoost_BAG_L1': 'StackerEnsembleModel_CatBoost',\n  'ExtraTreesGini_BAG_L1': 'StackerEnsembleModel_XT',\n  'ExtraTreesEntr_BAG_L1': 'StackerEnsembleModel_XT',\n  'XGBoost_BAG_L1': 'StackerEnsembleModel_XGBoost',\n  'WeightedEnsemble_L2': 'WeightedEnsembleModel',\n  'LightGBMXT_BAG_L2': 'StackerEnsembleModel_LGB',\n  'LightGBM_BAG_L2': 'StackerEnsembleModel_LGB',\n  'RandomForestGini_BAG_L2': 'StackerEnsembleModel_RF',\n  'RandomForestEntr_BAG_L2': 'StackerEnsembleModel_RF',\n  'CatBoost_BAG_L2': 'StackerEnsembleModel_CatBoost',\n  'ExtraTreesGini_BAG_L2': 'StackerEnsembleModel_XT',\n  'ExtraTreesEntr_BAG_L2': 'StackerEnsembleModel_XT',\n  'XGBoost_BAG_L2': 'StackerEnsembleModel_XGBoost',\n  'WeightedEnsemble_L3': 'WeightedEnsembleModel'},\n 'model_performance': {'LightGBMXT_BAG_L1': 0.9731659603969807,\n  'LightGBM_BAG_L1': 0.9725236123300651,\n  'RandomForestGini_BAG_L1': 0.9630459397222785,\n  'RandomForestEntr_BAG_L1': 0.963928434420199,\n  'CatBoost_BAG_L1': 0.9473605007834626,\n  'ExtraTreesGini_BAG_L1': 0.9608825060203223,\n  'ExtraTreesEntr_BAG_L1': 0.961220102270747,\n  'XGBoost_BAG_L1': 0.9286418882101606,\n  'WeightedEnsemble_L2': 0.9734498307962492,\n  'LightGBMXT_BAG_L2': 0.9737720082699739,\n  'LightGBM_BAG_L2': 0.9736584131567779,\n  'RandomForestGini_BAG_L2': 0.9731467621436395,\n  'RandomForestEntr_BAG_L2': 0.9738160987445745,\n  'CatBoost_BAG_L2': 0.9732980757477552,\n  'ExtraTreesGini_BAG_L2': 0.9727023520023295,\n  'ExtraTreesEntr_BAG_L2': 0.9732172946051885,\n  'XGBoost_BAG_L2': 0.973059442706224,\n  'WeightedEnsemble_L3': 0.9740249646866054},\n 'model_best': 'WeightedEnsemble_L3',\n 'model_paths': {'LightGBMXT_BAG_L1': ['LightGBMXT_BAG_L1'],\n  'LightGBM_BAG_L1': ['LightGBM_BAG_L1'],\n  'RandomForestGini_BAG_L1': ['RandomForestGini_BAG_L1'],\n  'RandomForestEntr_BAG_L1': ['RandomForestEntr_BAG_L1'],\n  'CatBoost_BAG_L1': ['CatBoost_BAG_L1'],\n  'ExtraTreesGini_BAG_L1': ['ExtraTreesGini_BAG_L1'],\n  'ExtraTreesEntr_BAG_L1': ['ExtraTreesEntr_BAG_L1'],\n  'XGBoost_BAG_L1': ['XGBoost_BAG_L1'],\n  'WeightedEnsemble_L2': ['WeightedEnsemble_L2'],\n  'LightGBMXT_BAG_L2': ['LightGBMXT_BAG_L2'],\n  'LightGBM_BAG_L2': ['LightGBM_BAG_L2'],\n  'RandomForestGini_BAG_L2': ['RandomForestGini_BAG_L2'],\n  'RandomForestEntr_BAG_L2': ['RandomForestEntr_BAG_L2'],\n  'CatBoost_BAG_L2': ['CatBoost_BAG_L2'],\n  'ExtraTreesGini_BAG_L2': ['ExtraTreesGini_BAG_L2'],\n  'ExtraTreesEntr_BAG_L2': ['ExtraTreesEntr_BAG_L2'],\n  'XGBoost_BAG_L2': ['XGBoost_BAG_L2'],\n  'WeightedEnsemble_L3': ['WeightedEnsemble_L3']},\n 'model_fit_times': {'LightGBMXT_BAG_L1': 3610.180981397629,\n  'LightGBM_BAG_L1': 3348.0170917510986,\n  'RandomForestGini_BAG_L1': 358.400985956192,\n  'RandomForestEntr_BAG_L1': 379.36999106407166,\n  'CatBoost_BAG_L1': 6936.761156320572,\n  'ExtraTreesGini_BAG_L1': 393.59334206581116,\n  'ExtraTreesEntr_BAG_L1': 408.24999499320984,\n  'XGBoost_BAG_L1': 677.322555065155,\n  'WeightedEnsemble_L2': 29.37348484992981,\n  'LightGBMXT_BAG_L2': 311.3059992790222,\n  'LightGBM_BAG_L2': 248.21099877357483,\n  'RandomForestGini_BAG_L2': 276.97100257873535,\n  'RandomForestEntr_BAG_L2': 347.3869993686676,\n  'CatBoost_BAG_L2': 5397.840834379196,\n  'ExtraTreesGini_BAG_L2': 282.0310003757477,\n  'ExtraTreesEntr_BAG_L2': 373.1059892177582,\n  'XGBoost_BAG_L2': 621.1898295879364,\n  'WeightedEnsemble_L3': 58.06606340408325},\n 'model_pred_times': {'LightGBMXT_BAG_L1': 257.29200410842896,\n  'LightGBM_BAG_L1': 245.73206543922424,\n  'RandomForestGini_BAG_L1': 105.20407295227051,\n  'RandomForestEntr_BAG_L1': 106.56995153427124,\n  'CatBoost_BAG_L1': 4.649034023284912,\n  'ExtraTreesGini_BAG_L1': 108.68911910057068,\n  'ExtraTreesEntr_BAG_L1': 108.05423140525818,\n  'XGBoost_BAG_L1': 31.58688998222351,\n  'WeightedEnsemble_L2': 0.18210077285766602,\n  'LightGBMXT_BAG_L2': 7.27303409576416,\n  'LightGBM_BAG_L2': 5.575002431869507,\n  'RandomForestGini_BAG_L2': 104.16398668289185,\n  'RandomForestEntr_BAG_L2': 108.56798887252808,\n  'CatBoost_BAG_L2': 4.09967041015625,\n  'ExtraTreesGini_BAG_L2': 103.18398642539978,\n  'ExtraTreesEntr_BAG_L2': 109.10108399391174,\n  'XGBoost_BAG_L2': 31.776406049728394,\n  'WeightedEnsemble_L3': 0.18001556396484375},\n 'num_bag_folds': 16,\n 'max_stack_level': 3,\n 'num_classes': 2,\n 'model_hyperparams': {'LightGBMXT_BAG_L1': {'use_orig_features': True,\n   'max_base_models': 25,\n   'max_base_models_per_type': 5,\n   'save_bag_folds': True},\n  'LightGBM_BAG_L1': {'use_orig_features': True,\n   'max_base_models': 25,\n   'max_base_models_per_type': 5,\n   'save_bag_folds': True},\n  'RandomForestGini_BAG_L1': {'use_orig_features': True,\n   'max_base_models': 25,\n   'max_base_models_per_type': 5,\n   'save_bag_folds': True,\n   'use_child_oof': True},\n  'RandomForestEntr_BAG_L1': {'use_orig_features': True,\n   'max_base_models': 25,\n   'max_base_models_per_type': 5,\n   'save_bag_folds': True,\n   'use_child_oof': True},\n  'CatBoost_BAG_L1': {'use_orig_features': True,\n   'max_base_models': 25,\n   'max_base_models_per_type': 5,\n   'save_bag_folds': True},\n  'ExtraTreesGini_BAG_L1': {'use_orig_features': True,\n   'max_base_models': 25,\n   'max_base_models_per_type': 5,\n   'save_bag_folds': True,\n   'use_child_oof': True},\n  'ExtraTreesEntr_BAG_L1': {'use_orig_features': True,\n   'max_base_models': 25,\n   'max_base_models_per_type': 5,\n   'save_bag_folds': True,\n   'use_child_oof': True},\n  'XGBoost_BAG_L1': {'use_orig_features': True,\n   'max_base_models': 25,\n   'max_base_models_per_type': 5,\n   'save_bag_folds': True},\n  'WeightedEnsemble_L2': {'use_orig_features': False,\n   'max_base_models': 25,\n   'max_base_models_per_type': 5,\n   'save_bag_folds': True},\n  'LightGBMXT_BAG_L2': {'use_orig_features': True,\n   'max_base_models': 25,\n   'max_base_models_per_type': 5,\n   'save_bag_folds': True},\n  'LightGBM_BAG_L2': {'use_orig_features': True,\n   'max_base_models': 25,\n   'max_base_models_per_type': 5,\n   'save_bag_folds': True},\n  'RandomForestGini_BAG_L2': {'use_orig_features': True,\n   'max_base_models': 25,\n   'max_base_models_per_type': 5,\n   'save_bag_folds': True,\n   'use_child_oof': True},\n  'RandomForestEntr_BAG_L2': {'use_orig_features': True,\n   'max_base_models': 25,\n   'max_base_models_per_type': 5,\n   'save_bag_folds': True,\n   'use_child_oof': True},\n  'CatBoost_BAG_L2': {'use_orig_features': True,\n   'max_base_models': 25,\n   'max_base_models_per_type': 5,\n   'save_bag_folds': True},\n  'ExtraTreesGini_BAG_L2': {'use_orig_features': True,\n   'max_base_models': 25,\n   'max_base_models_per_type': 5,\n   'save_bag_folds': True,\n   'use_child_oof': True},\n  'ExtraTreesEntr_BAG_L2': {'use_orig_features': True,\n   'max_base_models': 25,\n   'max_base_models_per_type': 5,\n   'save_bag_folds': True,\n   'use_child_oof': True},\n  'XGBoost_BAG_L2': {'use_orig_features': True,\n   'max_base_models': 25,\n   'max_base_models_per_type': 5,\n   'save_bag_folds': True},\n  'WeightedEnsemble_L3': {'use_orig_features': False,\n   'max_base_models': 25,\n   'max_base_models_per_type': 5,\n   'save_bag_folds': True}},\n 'leaderboard':                       model  score_val eval_metric  pred_time_val  \\\n 0       WeightedEnsemble_L3   0.974025     roc_auc    1121.149816   \n 1   RandomForestEntr_BAG_L2   0.973816     roc_auc    1076.345357   \n 2         LightGBMXT_BAG_L2   0.973772     roc_auc     975.050403   \n 3           LightGBM_BAG_L2   0.973658     roc_auc     973.352371   \n 4       WeightedEnsemble_L2   0.973450     roc_auc     609.776122   \n 5           CatBoost_BAG_L2   0.973298     roc_auc     971.877039   \n 6     ExtraTreesEntr_BAG_L2   0.973217     roc_auc    1076.878453   \n 7         LightGBMXT_BAG_L1   0.973166     roc_auc     257.292004   \n 8   RandomForestGini_BAG_L2   0.973147     roc_auc    1071.941355   \n 9            XGBoost_BAG_L2   0.973059     roc_auc     999.553775   \n 10    ExtraTreesGini_BAG_L2   0.972702     roc_auc    1070.961355   \n 11          LightGBM_BAG_L1   0.972524     roc_auc     245.732065   \n 12  RandomForestEntr_BAG_L1   0.963928     roc_auc     106.569952   \n 13  RandomForestGini_BAG_L1   0.963046     roc_auc     105.204073   \n 14    ExtraTreesEntr_BAG_L1   0.961220     roc_auc     108.054231   \n 15    ExtraTreesGini_BAG_L1   0.960883     roc_auc     108.689119   \n 16          CatBoost_BAG_L1   0.947361     roc_auc       4.649034   \n 17           XGBoost_BAG_L1   0.928642     roc_auc      31.586890   \n \n         fit_time  pred_time_val_marginal  fit_time_marginal  stack_level  \\\n 0   17698.055989                0.180016          58.066063            3   \n 1   16459.283098              108.567989         347.386999            2   \n 2   16423.202098                7.273034         311.305999            2   \n 3   16360.107097                5.575002         248.210999            2   \n 4    7366.941549                0.182101          29.373485            2   \n 5   21509.736933                4.099670        5397.840834            2   \n 6   16485.002088              109.101084         373.105989            2   \n 7    3610.180981              257.292004        3610.180981            1   \n 8   16388.867101              104.163987         276.971003            2   \n 9   16733.085928               31.776406         621.189830            2   \n 10  16393.927099              103.183986         282.031000            2   \n 11   3348.017092              245.732065        3348.017092            1   \n 12    379.369991              106.569952         379.369991            1   \n 13    358.400986              105.204073         358.400986            1   \n 14    408.249995              108.054231         408.249995            1   \n 15    393.593342              108.689119         393.593342            1   \n 16   6936.761156                4.649034        6936.761156            1   \n 17    677.322555               31.586890         677.322555            1   \n \n     can_infer  fit_order  \n 0        True         18  \n 1        True         13  \n 2        True         10  \n 3        True         11  \n 4        True          9  \n 5        True         14  \n 6        True         16  \n 7        True          1  \n 8        True         12  \n 9        True         17  \n 10       True         15  \n 11       True          2  \n 12       True          4  \n 13       True          3  \n 14       True          7  \n 15       True          6  \n 16       True          5  \n 17       True          8  }"
     },
     "execution_count": 8,
     "metadata": {},
     "output_type": "execute_result"
    }
   ],
   "source": [
    "predictor.fit_summary(verbosity=1)"
   ],
   "metadata": {
    "collapsed": false,
    "ExecuteTime": {
     "end_time": "2024-09-07T03:59:19.861305400Z",
     "start_time": "2024-09-07T03:59:16.280189300Z"
    }
   },
   "id": "ae0f84db9c211ecc",
   "execution_count": 8
  },
  {
   "cell_type": "code",
   "outputs": [
    {
     "name": "stderr",
     "output_type": "stream",
     "text": [
      "C:\\Users\\Николай\\PycharmProjects\\OZON E-CUP\\.venv\\lib\\site-packages\\dask\\dataframe\\__init__.py:42: FutureWarning: \n",
      "Dask dataframe query planning is disabled because dask-expr is not installed.\n",
      "\n",
      "You can install it with `pip install dask[dataframe]` or `conda install dask`.\n",
      "This will raise in a future version.\n",
      "\n",
      "  warnings.warn(msg, FutureWarning)\n"
     ]
    }
   ],
   "source": [
    "predictions = predictor.predict_proba(X_test)[1]"
   ],
   "metadata": {
    "collapsed": false,
    "ExecuteTime": {
     "end_time": "2024-09-07T04:02:41.467913300Z",
     "start_time": "2024-09-07T03:59:16.967257Z"
    }
   },
   "id": "163de1d0d384066e",
   "execution_count": 9
  },
  {
   "cell_type": "code",
   "outputs": [
    {
     "data": {
      "text/plain": "0        0.123921\n1        0.246520\n2        0.131399\n3        0.862775\n4        0.122629\n           ...   \n49615    0.239806\n49616    0.317674\n49617    0.873643\n49618    0.122524\n49619    0.117494\nName: 1, Length: 49620, dtype: float64"
     },
     "execution_count": 10,
     "metadata": {},
     "output_type": "execute_result"
    }
   ],
   "source": [
    "predictions"
   ],
   "metadata": {
    "collapsed": false,
    "ExecuteTime": {
     "end_time": "2024-09-07T04:02:41.510947700Z",
     "start_time": "2024-09-07T04:02:41.469913800Z"
    }
   },
   "id": "f35a48390558706f",
   "execution_count": 10
  },
  {
   "cell_type": "code",
   "outputs": [],
   "source": [
    "test = pd.read_csv(\"my_data/2_my_test.csv\")\n",
    "submission = pd.DataFrame({\n",
    "    'variantid1': test['variantid1'],\n",
    "    'variantid2': test['variantid2'],\n",
    "    'target': predictions\n",
    "})\n",
    "\n",
    "submission.to_csv('submission.csv', index=False)"
   ],
   "metadata": {
    "collapsed": false,
    "ExecuteTime": {
     "end_time": "2024-09-07T05:18:46.418616200Z",
     "start_time": "2024-09-07T05:18:45.714519700Z"
    }
   },
   "id": "bca25b7b339f38cf",
   "execution_count": 12
  },
  {
   "cell_type": "code",
   "outputs": [],
   "source": [
    "# Сохраняем обученный predictor\n",
    "predictor.save(\"my_predictor.pkl\")"
   ],
   "metadata": {
    "collapsed": false,
    "ExecuteTime": {
     "end_time": "2024-09-07T05:30:49.598911800Z",
     "start_time": "2024-09-07T05:30:49.579917400Z"
    }
   },
   "id": "342c69c79c6e4833",
   "execution_count": 15
  }
 ],
 "metadata": {
  "kernelspec": {
   "display_name": "Python 3",
   "language": "python",
   "name": "python3"
  },
  "language_info": {
   "codemirror_mode": {
    "name": "ipython",
    "version": 2
   },
   "file_extension": ".py",
   "mimetype": "text/x-python",
   "name": "python",
   "nbconvert_exporter": "python",
   "pygments_lexer": "ipython2",
   "version": "2.7.6"
  }
 },
 "nbformat": 4,
 "nbformat_minor": 5
}
